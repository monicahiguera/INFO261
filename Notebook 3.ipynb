{
 "cells": [
  {
   "cell_type": "markdown",
   "metadata": {},
   "source": [
    "# Notebook 3: Operaciones de Administración de Base de Datos relacional"
   ]
  },
  {
   "cell_type": "markdown",
   "metadata": {},
   "source": [
    "En el ciclo de vida de una base de datos relacional, a menudo el administrador de la BD tiene que realizar ciertas operaciones de mantención. Mencionamos en particular:\n",
    "\n",
    "1- Realizar una copia de seguridad de los datos\n",
    "\n",
    "2- Crear usuarios y definir permisos de acceso a la BD\n",
    "\n",
    "3- Modificar la estructura de la BD\n",
    "\n",
    "4- Agregar restricciones o reglas de integridad sobre la estructura de los datos"
   ]
  },
  {
   "cell_type": "markdown",
   "metadata": {},
   "source": [
    "## Ejercicio 1: Crear una BD de prueba básica"
   ]
  },
  {
   "cell_type": "markdown",
   "metadata": {},
   "source": [
    "Para realizar los ejercicios siguientes, primero vamos a crear una BD de prueba básica, llamada \"Valdivia\". Esta base de datos está constituida por 3 tablas:\n",
    "\n",
    "- PERSONA(pk_RUT, Nombre, Edad)   (ej.: \"1, Juan, 20\")\n",
    "\n",
    "- LUGAR_DE_INTERES(pk_Lugar, Descripcion, Categoria, Latitud, Longitud)  (ej.; \"1, Mercado Fluvial, Turismo, -39.81, -73.24\")\n",
    "\n",
    "- DESPLAZARSE(#pk_RUT, fecha, Latitud, Longitud)  (ej. \"1, 30/09/2018 12:00:00, -39, -70\")"
   ]
  },
  {
   "cell_type": "markdown",
   "metadata": {},
   "source": [
    "1) Implementar la estructura de esta base de datos en MySQL indicando las claves primarias y foraneas y los tipos de datos\n",
    "\n",
    "2) Insertar al menos 5 filas en cada tabla\n",
    "\n",
    "3) ¿A qué tipo de aplicación podría servir esta base de datos?\n",
    "\n",
    "<code>\n",
    "    \n",
    "CREATE SCHEMA Valdivia;\n",
    "\n",
    "CREATE TABLE persona (\n",
    "pk_RUT INT UNSIGNED NOT NULL AUTO_INCREMENT,\n",
    "Nombre VARCHAR(45) NOT NULL,\n",
    "Edad SMALLINT NOT NULL,\n",
    "PRIMARY KEY  (pk_RUT)\n",
    ")ENGINE=InnoDB DEFAULT CHARSET=utf8;\n",
    "\n",
    "CREATE TABLE lugar_de_interes (\n",
    "pk_lugar INT UNSIGNED NOT NULL AUTO_INCREMENT,\n",
    "Descripcion VARCHAR(150),\n",
    "Categoría VARCHAR(45) NOT NULL,\n",
    "Latitud DECIMAL(4,2) NOT NULL,\n",
    "Longitud DECIMAL(4,2) NOT NULL,\n",
    "PRIMARY KEY (pk_lugar)\n",
    ")ENGINE=InnoDB DEFAULT CHARSET=utf8;\n",
    "\n",
    "CREATE TABLE desplazarse (\n",
    "pk_RUT INT UNSIGNED NOT NULL,\n",
    "fecha DATETIME NOT NULL,\n",
    "Latitud DECIMAL(4,2) NOT NULL,\n",
    "Longitud DECIMAL(4,2) NOT NULL,\n",
    "FOREIGN KEY(pk_RUT) REFERENCES persona(pk_RUT)\n",
    ")ENGINE=InnoDB DEFAULT CHARSET=utf8;\n",
    "\n",
    "INSERT INTO persona (Nombre, Edad)\n",
    "VALUES (\"Ignacio\", \"20\"),  \n",
    "VALUES (\"Pablo\", \"23\"),\n",
    "VALUES (\"Alfredo\", \"14\"),\n",
    "VALUES (\"Monica\", \"30\"),\n",
    "VALUES (\"Jorge\", \"20\");\n",
    "\n",
    "INSERT INTO lugar_de_interes (Descripcion, Categoria, Latitud, Longitud)\n",
    "VALUES (\"Mercado Fluvial\", \"Turismo\", \"-39.81\", \"-73.24\"),\n",
    "VALUES (\"UACh\", \"Educacion\", \"-19.81\", \"-73.23\"),\n",
    "VALUES (\"Mall Plaza\", \"Compras\", \"-34.81\", \"-73.12\"),\n",
    "VALUES (\"Puente Cau Cau\", \"Turismo\", \"-39.12\", \"-73.14\"),\n",
    "VALUES (\"Fuerte Niebla\", \"Turismo\", \"-39.22\", \"-77.23\");\n",
    "\n",
    "INSERT INTO desplazarse (pk_RUT, fecha,Latitud, Longitud)\n",
    "VALUES(\"4\", \"2018-08-12 12:00:00\", \"-39.13\", \"-71.23\"),\n",
    "VALUES(\"2\", \"2018-12-06 12:00:00\", \"-39.12\", \"-72.23\"),\n",
    "VALUES(\"1\", \"2018-08-23 12:00:00\", \"-39.11\", \"-73.23\"),\n",
    "VALUES(\"5\", \"2018-08-14 12:00:00\", \"-39.10\", \"-74.23\"),\n",
    "VALUES(\"3\", \"2018-08-15 12:00:00\", \"-39.09\", \"-75.23\");\n",
    "\n",
    "--> Esta Base de Datos podría ser utilizada por una agencia de Turismo dedicada a hacer viajes y recorridos\n",
    "\n",
    "</code>"
   ]
  },
  {
   "cell_type": "code",
   "execution_count": null,
   "metadata": {},
   "outputs": [],
   "source": []
  },
  {
   "cell_type": "markdown",
   "metadata": {},
   "source": [
    "## Ejercicio 2: Realizar una copia de seguridad de una BD y exportar datos"
   ]
  },
  {
   "cell_type": "markdown",
   "metadata": {},
   "source": [
    "<a href=\"https://dev.mysql.com/doc/refman/8.0/en/backup-and-recovery.html\"> Backup and Recovery in MySQL</a>\n",
    "\n",
    "1) ¿Por qué hacer copias de seguridad de su base de datos?\n",
    "\n",
    "<code> Para que en caso de tener algún tipo de pérdida, problema, entre otras cosas. Podamos recuperar la información de manera 100% fiel </code>\n",
    "\n",
    "2) Utilizar el comando <code>Mysqldump</code> para realizar una copia de su base de datos. ¿Cuál es el <i>output</i> de este comando?\n",
    "\n",
    "<code> Este comando genera un archivo .sql que tiene almacenada la misma información encontrada dentro de la base de datos, ósea es un tipo de copia o respaldo. </code>\n",
    "\n",
    "3) En algunos casos, queremos simplemente exportar datos para poder utilizarlos en otros contextos. ¿En qué consiste el formato de datos CSV? ¿Cómo exportar datos al formato CSV desde MySQL? (ver: <a href=\"http://www.mysqltutorial.org/mysql-export-table-to-csv/\">Tutorial</a>)"
   ]
  },
  {
   "cell_type": "code",
   "execution_count": null,
   "metadata": {},
   "outputs": [],
   "source": [
    "SELECT * FROM personas INTO OUTFILE 'C:/desktop/cancelled_orders.csv' \n",
    "FIELDS ENCLOSED BY '\"' \n",
    "TERMINATED BY ';' \n",
    "ESCAPED BY '\"' \n",
    "LINES TERMINATED BY '\\r\\n';"
   ]
  },
  {
   "cell_type": "markdown",
   "metadata": {},
   "source": [
    "## Ejercicio 3: Gestionar usuarios y privilegios de lectura y escritura\n",
    "\n",
    "En la configuración por defecto de MySQL, existe un sólo usuario, llamado 'root', lo cual tiene todos los derechos. En término de seguridad es muy poco recomendable trabajar siempre con el usuario 'root' (en particular cuando se deja los passwords en el código o un archivo de parametros). \n",
    "\n",
    "1) ¿Cuáles son los tipos de privilegios en una base de datos relacional?\n",
    "\n",
    "<code> Privilegios relativos a las tablas, Privilegios relativos a lo administrativo y los Privilegios generales. </code>\n",
    "\n",
    "2) Crear un nuevo usuario y darle todos los privilegios sobre la base de datos 'Valdivia'\n",
    "\n",
    "3) Crear un nuevo usuario, lo cual tendrá solamente acceso de lectura sobre la tabla Lugar_de_interes y Desplazarse"
   ]
  },
  {
   "cell_type": "code",
   "execution_count": null,
   "metadata": {},
   "outputs": [],
   "source": [
    "CREATE USER 'Usuario1'@'localhost' IDENTIFIED BY 'pass1';\n",
    "GRANT ALL PRIVILEGES ON valdivia.* TO 'Usuario1'@'localhost';\n",
    "FLUSH PRIVILEGES;\n",
    "\n",
    "CREATE USER 'Usuario2'@'localhost' IDENTIFIED BY 'pass2';\n",
    "GRANT SELECT ON valdivia.Lugar_de_interes TO 'Usuario2'@'localhost';\n",
    "GRANT SELECT ON valdivia.Desplazarse TO 'Usuario2'@'localhost';\n",
    "FLUSH PRIVILEGES;"
   ]
  },
  {
   "cell_type": "markdown",
   "metadata": {},
   "source": [
    "## Ejercicio 4: Modificar la estructura de una Base de Datos\n",
    "\n",
    "Supongamos que queremos modificar la estructura de la base de datos 'Valdivia'. \n",
    "\n",
    "1) Modificar la BD (sin borrarla) para agregar un campo 'nivel de estudio' en la tabla 'Persona'.\n",
    "\n",
    "2) Modificar la BD (sin borrarla) para dejar la posibilidad de tener varias categorías para describir un lugar de interés (implica crear una tabla adicional)\n",
    "\n",
    "3) Agregar una restricción para que las columnas \"Latitud\" y \"Longitud\" nuncan sean NULL"
   ]
  },
  {
   "cell_type": "code",
   "execution_count": null,
   "metadata": {},
   "outputs": [],
   "source": [
    "ALTER TABLE persona ADD nivel_de_estudio VARCHAR(20) NULL;\n",
    "\n",
    "LTER TABLE lugar_de_interes DROP COLUMN categoria;\n",
    "\n",
    "CREATE TABLE categorias (\n",
    "Nombre_categoria VARCHAR(45) NOT NULL,\n",
    "PRIMARY KEY  (Nombre_categoria)\n",
    ")ENGINE=InnoDB DEFAULT CHARSET=utf8;\n",
    "\n",
    "CREATE TABLE pertenece_categoria (\n",
    "nom_cate VARCHAR(45) NOT NULL,\n",
    "pk_lug VARCHAR(45) NOT NULL,\n",
    "FOREIGN KEY (nom_cate) REFERENCES categorias (Nombre_categoria),\n",
    "FOREIGN KEY (pk_lug) REFERENCES lugar_de_interes (pk_lugar)\n",
    ")ENGINE=InnoDB DEFAULT CHARSET=utf8;\n",
    "\n",
    "ALTER TABLE lugar_de_interes ALTER COLUMN Latitud NOT NULL\n",
    "ALTER TABLE lugar_de_interes ALTER COLUMN Longitud NOT NULL\n",
    "ALTER TABLE desplazarse ALTER COLUMN Latitud NOT NULL\n",
    "ALTER TABLE desplazarse ALTER COLUMN Longitud NOT NULL"
   ]
  },
  {
   "cell_type": "markdown",
   "metadata": {},
   "source": [
    "## Ejercicio 5 (opcional): Innovación para Valdivia - Smart City\n",
    "\n",
    "1) Revisar el concurso \"Desafio Smart City\": https://www.innoving.cl/smartcity\n",
    "\n",
    "2) Considerando que la empresa Telefonica del Sur podría darle acceso a ciertos datos telefónicos de la Ciudad, imaginar un escenario de innovación basado sobre una base de datos similar a aquella que creamos."
   ]
  },
  {
   "cell_type": "code",
   "execution_count": null,
   "metadata": {},
   "outputs": [],
   "source": []
  }
 ],
 "metadata": {
  "kernelspec": {
   "display_name": "Python 3",
   "language": "python",
   "name": "python3"
  },
  "language_info": {
   "codemirror_mode": {
    "name": "ipython",
    "version": 3
   },
   "file_extension": ".py",
   "mimetype": "text/x-python",
   "name": "python",
   "nbconvert_exporter": "python",
   "pygments_lexer": "ipython3",
   "version": "3.5.2"
  }
 },
 "nbformat": 4,
 "nbformat_minor": 2
}
